{
 "cells": [
  {
   "cell_type": "code",
   "execution_count": 46,
   "metadata": {},
   "outputs": [],
   "source": [
    "# load and summarize the dataset\n",
    "import numpy as np\n",
    "import pandas as pd\n",
    "from sklearn.model_selection import train_test_split\n",
    "from sklearn.preprocessing import OrdinalEncoder\n",
    "from sklearn.preprocessing import LabelEncoder\n",
    "from sklearn.linear_model import LogisticRegression\n",
    "from sklearn.svm import SVC\n",
    "from sklearn.model_selection import GridSearchCV\n",
    "from sklearn.metrics import confusion_matrix, classification_report, log_loss\n",
    "from sklearn.metrics import roc_auc_score, roc_curve\n",
    "import scikitplot as skplt\n",
    "import matplotlib.pyplot as plt\n",
    "%matplotlib inline\n",
    "import seaborn as sns\n",
    "import pickle\n",
    "\n",
    "import scikitplot as skplt"
   ]
  },
  {
   "cell_type": "code",
   "execution_count": 47,
   "metadata": {},
   "outputs": [],
   "source": [
    "df = pd.read_csv('newtest.csv')"
   ]
  },
  {
   "cell_type": "code",
   "execution_count": 48,
   "metadata": {},
   "outputs": [
    {
     "data": {
      "image/png": "[encoded data removed]",
      "text/plain": [
       "<Figure size 266.76x468 with 1 Axes>"
      ]
     },
     "metadata": {},
     "output_type": "display_data"
    }
   ],
   "source": [
    "g = sns.catplot(x = 'CLASS' , data = df, kind = 'count', height = 6.5, aspect = 0.57 )\n",
    "g.fig.suptitle('Class distribution', y = 1.0)\n",
    "g.set(xlabel = 'Classes', ylabel ='Samples in each class')\n",
    "plt.show()"
   ]
  },
  {
   "cell_type": "code",
   "execution_count": 49,
   "metadata": {},
   "outputs": [],
   "source": [
    "X = df.drop(['CLASS', 'LIQUOR ITEM', 'Class'], axis = 1)\n",
    "X = X.astype(str)\n",
    "y = df.CLASS"
   ]
  },
  {
   "cell_type": "code",
   "execution_count": 50,
   "metadata": {},
   "outputs": [],
   "source": [
    "Ord_model = pickle.load(open('Ordinal.sav', 'rb'))"
   ]
  },
  {
   "cell_type": "code",
   "execution_count": 51,
   "metadata": {},
   "outputs": [],
   "source": [
    "lab_model = pickle.load(open('Ordinallab.sav', 'rb'))"
   ]
  },
  {
   "cell_type": "code",
   "execution_count": 52,
   "metadata": {},
   "outputs": [],
   "source": [
    "X_enc = Ord_model.transform(X)"
   ]
  },
  {
   "cell_type": "code",
   "execution_count": 53,
   "metadata": {},
   "outputs": [],
   "source": [
    "y_enc = lab_model.transform(y)"
   ]
  },
  {
   "cell_type": "code",
   "execution_count": 54,
   "metadata": {},
   "outputs": [],
   "source": [
    "searcher = pickle.load(open('finalized_model.sav', 'rb'))"
   ]
  },
  {
   "cell_type": "code",
   "execution_count": 74,
   "metadata": {},
   "outputs": [
    {
     "name": "stdout",
     "output_type": "stream",
     "text": [
      "Test accuracy  0.8972602739726028\n",
      "              precision    recall  f1-score   support\n",
      "\n",
      "           0       1.00      0.78      0.87        67\n",
      "           1       0.84      1.00      0.91        79\n",
      "\n",
      "    accuracy                           0.90       146\n",
      "   macro avg       0.92      0.89      0.89       146\n",
      "weighted avg       0.91      0.90      0.90       146\n",
      "\n",
      "[[52 15]\n",
      " [ 0 79]]\n",
      "0.20049870585790866\n",
      "AUC of ROC Curve: 0.9901757037596826\n"
     ]
    }
   ],
   "source": [
    "y_pred = searcher.predict(X_enc)\n",
    "y_prob = searcher.predict_proba(X_enc)[:,1]\n",
    "print(\"Test accuracy \", searcher.score(X_enc, y_enc))\n",
    "print(classification_report(y_enc,y_pred))\n",
    "print(confusion_matrix(y_enc, y_pred))\n",
    "print(log_loss(y_enc, y_prob))\n",
    "fpr, tpr, thresholds = roc_curve(y_enc, y_prob)\n",
    "roc_auc = roc_auc_score(y_enc, y_prob)\n",
    "print(\"AUC of ROC Curve:\", roc_auc)"
   ]
  },
  {
   "cell_type": "code",
   "execution_count": 57,
   "metadata": {},
   "outputs": [
    {
     "data": {
      "text/plain": [
       "numpy.ndarray"
      ]
     },
     "execution_count": 57,
     "metadata": {},
     "output_type": "execute_result"
    }
   ],
   "source": [
    "type(fpr)"
   ]
  },
  {
   "cell_type": "code",
   "execution_count": 58,
   "metadata": {},
   "outputs": [
    {
     "data": {
      "text/plain": [
       "array([0.        , 0.        , 0.        , 0.01492537, 0.01492537,\n",
       "       0.04477612, 0.04477612, 0.07462687, 0.07462687, 0.11940299,\n",
       "       0.11940299, 0.20895522, 0.20895522, 0.6119403 , 0.64179104,\n",
       "       1.        ])"
      ]
     },
     "execution_count": 58,
     "metadata": {},
     "output_type": "execute_result"
    }
   ],
   "source": [
    "fpr"
   ]
  },
  {
   "cell_type": "code",
   "execution_count": 59,
   "metadata": {},
   "outputs": [
    {
     "data": {
      "text/plain": [
       "array([0.        , 0.01265823, 0.82278481, 0.82278481, 0.89873418,\n",
       "       0.89873418, 0.93670886, 0.93670886, 0.97468354, 0.97468354,\n",
       "       0.98734177, 0.98734177, 1.        , 1.        , 1.        ,\n",
       "       1.        ])"
      ]
     },
     "execution_count": 59,
     "metadata": {},
     "output_type": "execute_result"
    }
   ],
   "source": [
    "tpr"
   ]
  },
  {
   "cell_type": "code",
   "execution_count": 60,
   "metadata": {},
   "outputs": [],
   "source": [
    "fpr_list = list(fpr)"
   ]
  },
  {
   "cell_type": "code",
   "execution_count": 63,
   "metadata": {},
   "outputs": [],
   "source": [
    "tpr_list = list(tpr)"
   ]
  },
  {
   "cell_type": "code",
   "execution_count": 65,
   "metadata": {},
   "outputs": [],
   "source": [
    "make_dict = {'FPR':fpr_list, 'TPR':tpr_list}"
   ]
  },
  {
   "cell_type": "code",
   "execution_count": 67,
   "metadata": {},
   "outputs": [],
   "source": [
    "df_dict = pd.DataFrame(make_dict)"
   ]
  },
  {
   "cell_type": "code",
   "execution_count": 94,
   "metadata": {},
   "outputs": [
    {
     "name": "stderr",
     "output_type": "stream",
     "text": [
      "The PostScript backend does not support transparency; partially transparent artists will be rendered opaque.\n",
      "The PostScript backend does not support transparency; partially transparent artists will be rendered opaque.\n",
      "The PostScript backend does not support transparency; partially transparent artists will be rendered opaque.\n"
     ]
    },
    {
     "data": {
      "image/png": "[encoded data removed]",
      "text/plain": [
       "<Figure size 324x324 with 1 Axes>"
      ]
     },
     "metadata": {},
     "output_type": "display_data"
    }
   ],
   "source": [
    "fatui = [\"#e74c3c\", \"#34495e\"]\n",
    "sns.set_style('darkgrid')\n",
    "sns.set_palette(fatui)\n",
    "sns.set_context('paper')\n",
    "g = sns.relplot(x = 'FPR', y= 'TPR', data= df_dict, kind = 'line', height = 4.5, aspect = 1)\n",
    "g.set(xlabel = 'False Positive Rate', ylabel ='True Positive Rate')\n",
    "plt.savefig('Roc test.eps', format='eps')\n",
    "plt.show()"
   ]
  },
  {
   "cell_type": "code",
   "execution_count": 100,
   "metadata": {},
   "outputs": [],
   "source": [
    "xbar = ['Basic Logistic Regression', 'Tuned Logistic Regression', 'Basic SVM', 'Tuned SVM', 'Final Model']"
   ]
  },
  {
   "cell_type": "code",
   "execution_count": 122,
   "metadata": {},
   "outputs": [],
   "source": [
    "ybar = [89.1, 90.0, 90.0, 93.33, 90.1]"
   ]
  },
  {
   "cell_type": "code",
   "execution_count": 123,
   "metadata": {},
   "outputs": [],
   "source": [
    "make_dict_acc = {'algo':xbar, 'accuracy':ybar}"
   ]
  },
  {
   "cell_type": "code",
   "execution_count": 124,
   "metadata": {},
   "outputs": [
    {
     "data": {
      "text/plain": [
       "{'algo': ['Basic Logistic Regression',\n",
       "  'Tuned Logistic Regression',\n",
       "  'Basic SVM',\n",
       "  'Tuned SVM',\n",
       "  'Final Model'],\n",
       " 'accuracy': [89.1, 90.0, 90.0, 93.33, 90.1]}"
      ]
     },
     "execution_count": 124,
     "metadata": {},
     "output_type": "execute_result"
    }
   ],
   "source": [
    "make_dict_acc"
   ]
  },
  {
   "cell_type": "code",
   "execution_count": 125,
   "metadata": {},
   "outputs": [],
   "source": [
    "df_acc = pd.DataFrame(make_dict_acc)"
   ]
  },
  {
   "cell_type": "code",
   "execution_count": 126,
   "metadata": {},
   "outputs": [
    {
     "data": {
      "image/png": "[encoded data removed]",
      "text/plain": [
       "<Figure size 648x432 with 1 Axes>"
      ]
     },
     "metadata": {},
     "output_type": "display_data"
    }
   ],
   "source": [
    "flatui = [\"#9b59b6\", \"#3498db\", \"#95a5a6\", \"#e74c3c\", \"#34495e\", \"#2ecc71\"]\n",
    "sns.set_style('whitegrid')\n",
    "sns.set_palette(flatui)\n",
    "sns.set_context('paper')\n",
    "\n",
    "g = sns.catplot(x = 'algo', y = 'accuracy' , data = df_acc, kind = 'point', join = True, height = 6, aspect = 1.5)\n",
    "g.set(xlabel = 'Algorithm', ylabel ='Accuracy')\n",
    "plt.savefig('Accuracy.eps', format='eps')\n",
    "plt.show()"
   ]
  },
  {
   "cell_type": "code",
   "execution_count": null,
   "metadata": {},
   "outputs": [],
   "source": []
  }
 ],
 "metadata": {
  "kernelspec": {
   "display_name": "Python 3",
   "language": "python",
   "name": "python3"
  },
  "language_info": {
   "codemirror_mode": {
    "name": "ipython",
    "version": 3
   },
   "file_extension": ".py",
   "mimetype": "text/x-python",
   "name": "python",
   "nbconvert_exporter": "python",
   "pygments_lexer": "ipython3",
   "version": "3.7.3"
  }
 },
 "nbformat": 4,
 "nbformat_minor": 2
}
