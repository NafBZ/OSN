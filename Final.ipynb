{
 "cells": [
  {
   "cell_type": "code",
   "execution_count": 107,
   "metadata": {},
   "outputs": [],
   "source": [
    "# load and summarize the dataset\n",
    "import numpy as np\n",
    "import pandas as pd\n",
    "from sklearn.model_selection import train_test_split\n",
    "from sklearn.preprocessing import OrdinalEncoder\n",
    "from sklearn.preprocessing import LabelEncoder\n",
    "from sklearn.linear_model import LogisticRegression\n",
    "from sklearn.svm import SVC\n",
    "from sklearn.model_selection import GridSearchCV\n",
    "from sklearn.metrics import confusion_matrix, classification_report, log_loss\n",
    "from sklearn.metrics import roc_auc_score, roc_curve\n",
    "import scikitplot as skplt\n",
    "import matplotlib.pyplot as plt\n",
    "%matplotlib inline\n",
    "import seaborn as sns\n",
    "import pickle"
   ]
  },
  {
   "cell_type": "code",
   "execution_count": 103,
   "metadata": {},
   "outputs": [],
   "source": [
    "df = pd.read_csv('train.csv')\n",
    "X = df.drop(['CLASS', 'LIQUOR ITEM'], axis = 1)\n",
    "X = X.astype(str)\n",
    "y = df.CLASS"
   ]
  },
  {
   "cell_type": "code",
   "execution_count": 155,
   "metadata": {},
   "outputs": [
    {
     "data": {
      "image/png": "[encoded data removed]",
      "text/plain": [
       "<Figure size 324x324 with 1 Axes>"
      ]
     },
     "metadata": {},
     "output_type": "display_data"
    }
   ],
   "source": [
    "sns.set_style('whitegrid')\n",
    "sns.set_palette(fatui)\n",
    "sns.set_context('paper')\n",
    "\n",
    "g = sns.catplot(x = 'CLASS' , data = df, kind = 'count', height = 4.5, aspect = 1 )\n",
    "g.set(xlabel = 'Classes', ylabel ='Samples in each class')\n",
    "plt.savefig('Class distribution.eps', format='eps')\n",
    "plt.show()"
   ]
  },
  {
   "cell_type": "code",
   "execution_count": null,
   "metadata": {},
   "outputs": [],
   "source": []
  },
  {
   "cell_type": "code",
   "execution_count": 113,
   "metadata": {},
   "outputs": [],
   "source": [
    "# prepare input data\n",
    "def prepare_inputs(X_train, X_test):\n",
    "    oe = OrdinalEncoder()\n",
    "    oe.fit(X_train)\n",
    "    fileord = 'Ordinal.sav'\n",
    "    pickle.dump(oe, open(fileord, 'wb'))\n",
    "    X_train_enc = oe.transform(X_train)\n",
    "    X_test_enc = oe.transform(X_test)\n",
    "    return X_train_enc, X_test_enc"
   ]
  },
  {
   "cell_type": "code",
   "execution_count": 114,
   "metadata": {},
   "outputs": [],
   "source": [
    "# prepare target\n",
    "def prepare_targets(y_train, y_test):\n",
    "    le = LabelEncoder()\n",
    "    le.fit(y_train)\n",
    "    fileordlab = 'Ordinallab.sav'\n",
    "    pickle.dump(le, open(fileordlab, 'wb'))\n",
    "    y_train_enc = le.transform(y_train)\n",
    "    y_test_enc = le.transform(y_test)\n",
    "    return y_train_enc, y_test_enc"
   ]
  },
  {
   "cell_type": "code",
   "execution_count": 5,
   "metadata": {},
   "outputs": [],
   "source": [
    "#Basic SVM\n",
    "def svm_func(X_train, X_test, y_train, y_test):\n",
    "    svm = SVC(probability = True, kernel = 'linear')\n",
    "    svm.fit(X_train, y_train)\n",
    "    y_pred = svm.predict(X_test)\n",
    "    y_prob = svm.predict_proba(X_test)[:,1]\n",
    "    print(svm.score(X_test,y_test))\n",
    "    print(classification_report(y_test,y_pred))\n",
    "    print(confusion_matrix(y_test, y_pred))\n",
    "    print(log_loss(y_test,y_prob))\n",
    "    fpr, tpr, thresholds = roc_curve(y_test, y_prob)\n",
    "    roc_auc = roc_auc_score(y_test, y_prob)\n",
    "    print(\"AUC of ROC Curve:\", roc_auc)\n",
    "    print(len(fpr))\n",
    "    return fpr, tpr"
   ]
  },
  {
   "cell_type": "code",
   "execution_count": 108,
   "metadata": {},
   "outputs": [],
   "source": [
    "#Tuned SVM\n",
    "def svm_func_tuned(X_train, X_test, y_train, y_test):\n",
    "    # Instantiate the GridSearchCV object and run the search\n",
    "    parameters = {'C':[0.1, 1, 10]}\n",
    "    svm = SVC(kernel = 'rbf', probability = True)\n",
    "    searcher = GridSearchCV(svm, parameters, cv = 5)\n",
    "    searcher.fit(X_train, y_train)\n",
    "    filename = 'finalized_model.sav'\n",
    "    pickle.dump(searcher, open(filename, 'wb'))\n",
    "    y_pred = searcher.predict(X_test)\n",
    "    y_prob = searcher.predict_proba(X_test)[:,1]\n",
    "\n",
    "    # Report the best parameters and the corresponding score\n",
    "    print(\"Best CV params\", searcher.best_params_)\n",
    "    print(\"Best CV accuracy\", searcher.best_score_)\n",
    "\n",
    "    # Report the test accuracy using these best parameters\n",
    "    print(\"Test accuracy of best grid search hypers:\", searcher.score(X_test, y_test))\n",
    "\n",
    "    print(classification_report(y_test,y_pred))\n",
    "    print(confusion_matrix(y_test, y_pred))\n",
    "    print(log_loss(y_test, y_prob))\n",
    "    fpr, tpr, thresholds = roc_curve(y_test, y_prob)\n",
    "    roc_auc = roc_auc_score(y_test, y_prob)\n",
    "    print(\"AUC of ROC Curve:\", roc_auc)\n",
    "    print(len(fpr))\n",
    "    return fpr, tpr"
   ]
  },
  {
   "cell_type": "code",
   "execution_count": 86,
   "metadata": {},
   "outputs": [],
   "source": [
    "#Basic LogisticRegression\n",
    "def logreg_func(X_train, X_test, y_train, y_test):\n",
    "    logreg = LogisticRegression()\n",
    "    logreg.fit(X_train, y_train)\n",
    "    y_pred = logreg.predict(X_test)\n",
    "    y_prob = logreg.predict_proba(X_test)[:,1]\n",
    "    print(logreg.score(X_train,y_train))\n",
    "    print(logreg.score(X_test,y_test))\n",
    "    print(classification_report(y_test,y_pred))\n",
    "    print(confusion_matrix(y_test, y_pred))\n",
    "    print(log_loss(y_test,y_prob))\n",
    "    fpr, tpr, thresholds = roc_curve(y_test, y_prob)\n",
    "    roc_auc = roc_auc_score(y_test, y_prob)\n",
    "    print(\"AUC of ROC Curve:\", roc_auc)\n",
    "    return fpr, tpr"
   ]
  },
  {
   "cell_type": "code",
   "execution_count": 118,
   "metadata": {},
   "outputs": [],
   "source": [
    "#Tuned LogisticRegression\n",
    "def logreg_func_tuned(X_train, X_test, y_train, y_test):\n",
    "    c_space = np.logspace(-5, 8, 15)\n",
    "    param_grid = {'solver' :['liblinear', 'saga']}\n",
    "    \n",
    "    logreg = LogisticRegression(penalty = 'l1')\n",
    "    logreg_cv = GridSearchCV(logreg, param_grid, cv=5)\n",
    "    logreg_cv.fit(X_train, y_train)\n",
    "    y_pred = logreg_cv.predict(X_test)\n",
    "    y_prob= logreg_cv.predict_proba(X_test)[:,1]\n",
    "\n",
    "    # Report the best parameters and the corresponding score\n",
    "    print(\"Best CV params\", logreg_cv.best_params_)\n",
    "    print(\"Best CV accuracy\", logreg_cv.best_score_)\n",
    "\n",
    "    # Report the test accuracy using these best parameters\n",
    "    print(\"Test accuracy of best grid search hypers:\", logreg_cv.score(X_test, y_test))\n",
    "    print(logreg_cv.score(X_train,y_train))\n",
    "\n",
    "    print(classification_report(y_test,y_pred))\n",
    "    print(confusion_matrix(y_test, y_pred))\n",
    "    print(log_loss(y_test, y_prob))\n",
    "    fpr, tpr, thresholds = roc_curve(y_test, y_prob)\n",
    "    roc_auc = roc_auc_score(y_test, y_prob)\n",
    "    print(\"AUC of ROC Curve:\", roc_auc)\n",
    "    return fpr, tpr"
   ]
  },
  {
   "cell_type": "code",
   "execution_count": 115,
   "metadata": {},
   "outputs": [],
   "source": [
    "X_train, X_test, y_train, y_test = train_test_split(X,y, test_size = 0.20, random_state = 4, stratify = y)"
   ]
  },
  {
   "cell_type": "code",
   "execution_count": 116,
   "metadata": {},
   "outputs": [],
   "source": [
    "X_train_enc, X_test_enc = prepare_inputs(X_train, X_test)"
   ]
  },
  {
   "cell_type": "code",
   "execution_count": 117,
   "metadata": {},
   "outputs": [],
   "source": [
    "y_train_enc, y_test_enc = prepare_targets(y_train, y_test)"
   ]
  },
  {
   "cell_type": "code",
   "execution_count": 13,
   "metadata": {},
   "outputs": [
    {
     "name": "stdout",
     "output_type": "stream",
     "text": [
      "0.9\n",
      "              precision    recall  f1-score   support\n",
      "\n",
      "           0       0.82      0.77      0.79        30\n",
      "           1       0.92      0.94      0.93        90\n",
      "\n",
      "    accuracy                           0.90       120\n",
      "   macro avg       0.87      0.86      0.86       120\n",
      "weighted avg       0.90      0.90      0.90       120\n",
      "\n",
      "[[23  7]\n",
      " [ 5 85]]\n",
      "0.3157137954750303\n",
      "AUC of ROC Curve: 0.9051851851851853\n",
      "28\n"
     ]
    },
    {
     "data": {
      "text/plain": [
       "(array([0.        , 0.        , 0.        , 0.03333333, 0.03333333,\n",
       "        0.06666667, 0.06666667, 0.1       , 0.1       , 0.1       ,\n",
       "        0.1       , 0.13333333, 0.13333333, 0.16666667, 0.16666667,\n",
       "        0.2       , 0.2       , 0.23333333, 0.23333333, 0.33333333,\n",
       "        0.33333333, 0.4       , 0.4       , 0.7       , 0.7       ,\n",
       "        0.76666667, 0.76666667, 1.        ]),\n",
       " array([0.        , 0.01111111, 0.13333333, 0.13333333, 0.2       ,\n",
       "        0.2       , 0.7       , 0.7       , 0.73333333, 0.75555556,\n",
       "        0.84444444, 0.84444444, 0.86666667, 0.86666667, 0.91111111,\n",
       "        0.91111111, 0.92222222, 0.92222222, 0.95555556, 0.95555556,\n",
       "        0.96666667, 0.96666667, 0.97777778, 0.97777778, 0.98888889,\n",
       "        0.98888889, 1.        , 1.        ]))"
      ]
     },
     "execution_count": 13,
     "metadata": {},
     "output_type": "execute_result"
    }
   ],
   "source": [
    "svm_func(X_train_enc, X_test_enc, y_train_enc, y_test_enc)"
   ]
  },
  {
   "cell_type": "code",
   "execution_count": 112,
   "metadata": {},
   "outputs": [
    {
     "name": "stderr",
     "output_type": "stream",
     "text": [
      "/Users/Nafees/anaconda3/lib/python3.7/site-packages/sklearn/svm/base.py:193: FutureWarning: The default value of gamma will change from 'auto' to 'scale' in version 0.22 to account better for unscaled features. Set gamma explicitly to 'auto' or 'scale' to avoid this warning.\n",
      "  \"avoid this warning.\", FutureWarning)\n",
      "/Users/Nafees/anaconda3/lib/python3.7/site-packages/sklearn/svm/base.py:193: FutureWarning: The default value of gamma will change from 'auto' to 'scale' in version 0.22 to account better for unscaled features. Set gamma explicitly to 'auto' or 'scale' to avoid this warning.\n",
      "  \"avoid this warning.\", FutureWarning)\n",
      "/Users/Nafees/anaconda3/lib/python3.7/site-packages/sklearn/svm/base.py:193: FutureWarning: The default value of gamma will change from 'auto' to 'scale' in version 0.22 to account better for unscaled features. Set gamma explicitly to 'auto' or 'scale' to avoid this warning.\n",
      "  \"avoid this warning.\", FutureWarning)\n",
      "/Users/Nafees/anaconda3/lib/python3.7/site-packages/sklearn/svm/base.py:193: FutureWarning: The default value of gamma will change from 'auto' to 'scale' in version 0.22 to account better for unscaled features. Set gamma explicitly to 'auto' or 'scale' to avoid this warning.\n",
      "  \"avoid this warning.\", FutureWarning)\n",
      "/Users/Nafees/anaconda3/lib/python3.7/site-packages/sklearn/svm/base.py:193: FutureWarning: The default value of gamma will change from 'auto' to 'scale' in version 0.22 to account better for unscaled features. Set gamma explicitly to 'auto' or 'scale' to avoid this warning.\n",
      "  \"avoid this warning.\", FutureWarning)\n",
      "/Users/Nafees/anaconda3/lib/python3.7/site-packages/sklearn/svm/base.py:193: FutureWarning: The default value of gamma will change from 'auto' to 'scale' in version 0.22 to account better for unscaled features. Set gamma explicitly to 'auto' or 'scale' to avoid this warning.\n",
      "  \"avoid this warning.\", FutureWarning)\n",
      "/Users/Nafees/anaconda3/lib/python3.7/site-packages/sklearn/svm/base.py:193: FutureWarning: The default value of gamma will change from 'auto' to 'scale' in version 0.22 to account better for unscaled features. Set gamma explicitly to 'auto' or 'scale' to avoid this warning.\n",
      "  \"avoid this warning.\", FutureWarning)\n",
      "/Users/Nafees/anaconda3/lib/python3.7/site-packages/sklearn/svm/base.py:193: FutureWarning: The default value of gamma will change from 'auto' to 'scale' in version 0.22 to account better for unscaled features. Set gamma explicitly to 'auto' or 'scale' to avoid this warning.\n",
      "  \"avoid this warning.\", FutureWarning)\n",
      "/Users/Nafees/anaconda3/lib/python3.7/site-packages/sklearn/svm/base.py:193: FutureWarning: The default value of gamma will change from 'auto' to 'scale' in version 0.22 to account better for unscaled features. Set gamma explicitly to 'auto' or 'scale' to avoid this warning.\n",
      "  \"avoid this warning.\", FutureWarning)\n",
      "/Users/Nafees/anaconda3/lib/python3.7/site-packages/sklearn/svm/base.py:193: FutureWarning: The default value of gamma will change from 'auto' to 'scale' in version 0.22 to account better for unscaled features. Set gamma explicitly to 'auto' or 'scale' to avoid this warning.\n",
      "  \"avoid this warning.\", FutureWarning)\n",
      "/Users/Nafees/anaconda3/lib/python3.7/site-packages/sklearn/svm/base.py:193: FutureWarning: The default value of gamma will change from 'auto' to 'scale' in version 0.22 to account better for unscaled features. Set gamma explicitly to 'auto' or 'scale' to avoid this warning.\n",
      "  \"avoid this warning.\", FutureWarning)\n",
      "/Users/Nafees/anaconda3/lib/python3.7/site-packages/sklearn/svm/base.py:193: FutureWarning: The default value of gamma will change from 'auto' to 'scale' in version 0.22 to account better for unscaled features. Set gamma explicitly to 'auto' or 'scale' to avoid this warning.\n",
      "  \"avoid this warning.\", FutureWarning)\n",
      "/Users/Nafees/anaconda3/lib/python3.7/site-packages/sklearn/svm/base.py:193: FutureWarning: The default value of gamma will change from 'auto' to 'scale' in version 0.22 to account better for unscaled features. Set gamma explicitly to 'auto' or 'scale' to avoid this warning.\n",
      "  \"avoid this warning.\", FutureWarning)\n",
      "/Users/Nafees/anaconda3/lib/python3.7/site-packages/sklearn/svm/base.py:193: FutureWarning: The default value of gamma will change from 'auto' to 'scale' in version 0.22 to account better for unscaled features. Set gamma explicitly to 'auto' or 'scale' to avoid this warning.\n",
      "  \"avoid this warning.\", FutureWarning)\n",
      "/Users/Nafees/anaconda3/lib/python3.7/site-packages/sklearn/svm/base.py:193: FutureWarning: The default value of gamma will change from 'auto' to 'scale' in version 0.22 to account better for unscaled features. Set gamma explicitly to 'auto' or 'scale' to avoid this warning.\n",
      "  \"avoid this warning.\", FutureWarning)\n"
     ]
    },
    {
     "name": "stdout",
     "output_type": "stream",
     "text": [
      "Best CV params {'C': 1}\n",
      "Best CV accuracy 0.9123173277661796\n",
      "Test accuracy of best grid search hypers: 0.9333333333333333\n",
      "              precision    recall  f1-score   support\n",
      "\n",
      "           0       0.89      0.83      0.86        30\n",
      "           1       0.95      0.97      0.96        90\n",
      "\n",
      "    accuracy                           0.93       120\n",
      "   macro avg       0.92      0.90      0.91       120\n",
      "weighted avg       0.93      0.93      0.93       120\n",
      "\n",
      "[[25  5]\n",
      " [ 3 87]]\n",
      "0.2806233421168033\n",
      "AUC of ROC Curve: 0.9274074074074075\n",
      "18\n"
     ]
    },
    {
     "name": "stderr",
     "output_type": "stream",
     "text": [
      "/Users/Nafees/anaconda3/lib/python3.7/site-packages/sklearn/model_selection/_search.py:813: DeprecationWarning: The default of the `iid` parameter will change from True to False in version 0.22 and will be removed in 0.24. This will change numeric results when test-set sizes are unequal.\n",
      "  DeprecationWarning)\n",
      "/Users/Nafees/anaconda3/lib/python3.7/site-packages/sklearn/svm/base.py:193: FutureWarning: The default value of gamma will change from 'auto' to 'scale' in version 0.22 to account better for unscaled features. Set gamma explicitly to 'auto' or 'scale' to avoid this warning.\n",
      "  \"avoid this warning.\", FutureWarning)\n"
     ]
    },
    {
     "data": {
      "text/plain": [
       "(array([0.        , 0.        , 0.        , 0.        , 0.        ,\n",
       "        0.03333333, 0.03333333, 0.06666667, 0.06666667, 0.13333333,\n",
       "        0.13333333, 0.16666667, 0.16666667, 0.6       , 0.6       ,\n",
       "        0.8       , 0.8       , 1.        ]),\n",
       " array([0.        , 0.01111111, 0.07777778, 0.1       , 0.4       ,\n",
       "        0.4       , 0.48888889, 0.48888889, 0.76666667, 0.76666667,\n",
       "        0.9       , 0.9       , 0.96666667, 0.96666667, 0.98888889,\n",
       "        0.98888889, 1.        , 1.        ]))"
      ]
     },
     "execution_count": 112,
     "metadata": {},
     "output_type": "execute_result"
    }
   ],
   "source": [
    "svm_func_tuned(X_train_enc, X_test_enc, y_train_enc, y_test_enc)"
   ]
  },
  {
   "cell_type": "code",
   "execution_count": 87,
   "metadata": {},
   "outputs": [
    {
     "name": "stdout",
     "output_type": "stream",
     "text": [
      "0.9311064718162839\n",
      "0.8916666666666667\n",
      "              precision    recall  f1-score   support\n",
      "\n",
      "           0       0.84      0.70      0.76        30\n",
      "           1       0.91      0.96      0.93        90\n",
      "\n",
      "    accuracy                           0.89       120\n",
      "   macro avg       0.87      0.83      0.85       120\n",
      "weighted avg       0.89      0.89      0.89       120\n",
      "\n",
      "[[21  9]\n",
      " [ 4 86]]\n",
      "0.31236123684931566\n",
      "AUC of ROC Curve: 0.9070370370370371\n"
     ]
    },
    {
     "name": "stderr",
     "output_type": "stream",
     "text": [
      "/Users/Nafees/anaconda3/lib/python3.7/site-packages/sklearn/linear_model/logistic.py:432: FutureWarning: Default solver will be changed to 'lbfgs' in 0.22. Specify a solver to silence this warning.\n",
      "  FutureWarning)\n"
     ]
    }
   ],
   "source": [
    "fpr_log, tpr_log = logreg_func(X_train_enc, X_test_enc, y_train_enc, y_test_enc)"
   ]
  },
  {
   "cell_type": "code",
   "execution_count": 119,
   "metadata": {},
   "outputs": [
    {
     "name": "stderr",
     "output_type": "stream",
     "text": [
      "/Users/Nafees/anaconda3/lib/python3.7/site-packages/sklearn/linear_model/sag.py:337: ConvergenceWarning: The max_iter was reached which means the coef_ did not converge\n",
      "  \"the coef_ did not converge\", ConvergenceWarning)\n",
      "/Users/Nafees/anaconda3/lib/python3.7/site-packages/sklearn/linear_model/sag.py:337: ConvergenceWarning: The max_iter was reached which means the coef_ did not converge\n",
      "  \"the coef_ did not converge\", ConvergenceWarning)\n",
      "/Users/Nafees/anaconda3/lib/python3.7/site-packages/sklearn/linear_model/sag.py:337: ConvergenceWarning: The max_iter was reached which means the coef_ did not converge\n",
      "  \"the coef_ did not converge\", ConvergenceWarning)\n",
      "/Users/Nafees/anaconda3/lib/python3.7/site-packages/sklearn/linear_model/sag.py:337: ConvergenceWarning: The max_iter was reached which means the coef_ did not converge\n",
      "  \"the coef_ did not converge\", ConvergenceWarning)\n",
      "/Users/Nafees/anaconda3/lib/python3.7/site-packages/sklearn/linear_model/sag.py:337: ConvergenceWarning: The max_iter was reached which means the coef_ did not converge\n",
      "  \"the coef_ did not converge\", ConvergenceWarning)\n"
     ]
    },
    {
     "name": "stdout",
     "output_type": "stream",
     "text": [
      "Best CV params {'solver': 'liblinear'}\n",
      "Best CV accuracy 0.9269311064718163\n",
      "Test accuracy of best grid search hypers: 0.9\n",
      "0.9311064718162839\n",
      "              precision    recall  f1-score   support\n",
      "\n",
      "           0       0.85      0.73      0.79        30\n",
      "           1       0.91      0.96      0.93        90\n",
      "\n",
      "    accuracy                           0.90       120\n",
      "   macro avg       0.88      0.84      0.86       120\n",
      "weighted avg       0.90      0.90      0.90       120\n",
      "\n",
      "[[22  8]\n",
      " [ 4 86]]\n",
      "0.3110310636440799\n",
      "AUC of ROC Curve: 0.9059259259259259\n"
     ]
    },
    {
     "data": {
      "image/png": "[encoded data removed]",
      "text/plain": [
       "<Figure size 432x288 with 1 Axes>"
      ]
     },
     "metadata": {},
     "output_type": "display_data"
    },
    {
     "name": "stdout",
     "output_type": "stream",
     "text": [
      "None\n"
     ]
    }
   ],
   "source": [
    "fpr_logtune, tpr_logtune = logreg_func_tuned(X_train_enc, X_test_enc, y_train_enc, y_test_enc)"
   ]
  },
  {
   "cell_type": "code",
   "execution_count": 61,
   "metadata": {},
   "outputs": [],
   "source": [
    "fpr_logreg = np.delete(fpr_log, [3, 16])"
   ]
  },
  {
   "cell_type": "code",
   "execution_count": 63,
   "metadata": {},
   "outputs": [],
   "source": [
    "tpr_logreg = np.delete(tpr_log, [3, 16])"
   ]
  },
  {
   "cell_type": "code",
   "execution_count": 64,
   "metadata": {},
   "outputs": [],
   "source": [
    "algo_log = []\n",
    "for i in range(0,26):\n",
    "    algo_log.append('logistic_reg')\n",
    "    \n",
    "    \n",
    "algo_logtune = []\n",
    "for i in range(0,26):\n",
    "    algo_logtune.append('tuned_logreg')"
   ]
  },
  {
   "cell_type": "code",
   "execution_count": 65,
   "metadata": {},
   "outputs": [
    {
     "name": "stdout",
     "output_type": "stream",
     "text": [
      "{'FPRL': array([0.        , 0.        , 0.        , 0.03333333, 0.06666667,\n",
      "       0.06666667, 0.1       , 0.1       , 0.1       , 0.1       ,\n",
      "       0.13333333, 0.13333333, 0.16666667, 0.16666667, 0.2       ,\n",
      "       0.26666667, 0.26666667, 0.5       , 0.5       , 0.53333333,\n",
      "       0.53333333, 0.63333333, 0.63333333, 0.73333333, 0.73333333,\n",
      "       1.        ]), 'TPRL': array([0.        , 0.01111111, 0.12222222, 0.28888889, 0.28888889,\n",
      "       0.65555556, 0.65555556, 0.76666667, 0.78888889, 0.87777778,\n",
      "       0.87777778, 0.9       , 0.9       , 0.92222222, 0.92222222,\n",
      "       0.94444444, 0.95555556, 0.95555556, 0.96666667, 0.96666667,\n",
      "       0.97777778, 0.97777778, 0.98888889, 0.98888889, 1.        ,\n",
      "       1.        ]), 'AlgorithmL': ['logistic_reg', 'logistic_reg', 'logistic_reg', 'logistic_reg', 'logistic_reg', 'logistic_reg', 'logistic_reg', 'logistic_reg', 'logistic_reg', 'logistic_reg', 'logistic_reg', 'logistic_reg', 'logistic_reg', 'logistic_reg', 'logistic_reg', 'logistic_reg', 'logistic_reg', 'logistic_reg', 'logistic_reg', 'logistic_reg', 'logistic_reg', 'logistic_reg', 'logistic_reg', 'logistic_reg', 'logistic_reg', 'logistic_reg']}\n"
     ]
    }
   ],
   "source": [
    "keys_log = ['FPRL', 'TPRL', 'AlgorithmL']\n",
    "values_log = [fpr_logreg, tpr_logreg, algo_log]\n",
    "log_l = dict(zip(keys_log, values_log))\n",
    "print(log_l)"
   ]
  },
  {
   "cell_type": "code",
   "execution_count": 66,
   "metadata": {},
   "outputs": [
    {
     "name": "stdout",
     "output_type": "stream",
     "text": [
      "{'FPRL': array([0.        , 0.        , 0.        , 0.03333333, 0.03333333,\n",
      "       0.06666667, 0.06666667, 0.06666667, 0.06666667, 0.1       ,\n",
      "       0.1       , 0.1       , 0.1       , 0.16666667, 0.16666667,\n",
      "       0.23333333, 0.23333333, 0.4       , 0.4       , 0.5       ,\n",
      "       0.5       , 0.66666667, 0.66666667, 0.73333333, 0.73333333,\n",
      "       1.        ]), 'TPRL': array([0.        , 0.01111111, 0.13333333, 0.13333333, 0.22222222,\n",
      "       0.22222222, 0.46666667, 0.48888889, 0.63333333, 0.63333333,\n",
      "       0.75555556, 0.77777778, 0.87777778, 0.87777778, 0.94444444,\n",
      "       0.94444444, 0.95555556, 0.95555556, 0.96666667, 0.96666667,\n",
      "       0.97777778, 0.97777778, 0.98888889, 0.98888889, 1.        ,\n",
      "       1.        ]), 'AlgorithmL': ['tuned_logreg', 'tuned_logreg', 'tuned_logreg', 'tuned_logreg', 'tuned_logreg', 'tuned_logreg', 'tuned_logreg', 'tuned_logreg', 'tuned_logreg', 'tuned_logreg', 'tuned_logreg', 'tuned_logreg', 'tuned_logreg', 'tuned_logreg', 'tuned_logreg', 'tuned_logreg', 'tuned_logreg', 'tuned_logreg', 'tuned_logreg', 'tuned_logreg', 'tuned_logreg', 'tuned_logreg', 'tuned_logreg', 'tuned_logreg', 'tuned_logreg', 'tuned_logreg']}\n"
     ]
    }
   ],
   "source": [
    "keys_logtune = ['FPRL', 'TPRL', 'AlgorithmL']\n",
    "values_logtune = [fpr_logtune, tpr_logtune, algo_logtune]\n",
    "log_tune = dict(zip(keys_logtune, values_logtune))\n",
    "print(log_tune)"
   ]
  },
  {
   "cell_type": "code",
   "execution_count": 67,
   "metadata": {},
   "outputs": [],
   "source": [
    "loglist = [log_l, log_tune]\n",
    "logdict = {}\n",
    "for k in log_l.keys():\n",
    "    logdict[k] = np.concatenate(list(logdict[k] for logdict in loglist))"
   ]
  },
  {
   "cell_type": "code",
   "execution_count": 68,
   "metadata": {},
   "outputs": [
    {
     "data": {
      "text/plain": [
       "{'FPRL': array([0.        , 0.        , 0.        , 0.03333333, 0.06666667,\n",
       "        0.06666667, 0.1       , 0.1       , 0.1       , 0.1       ,\n",
       "        0.13333333, 0.13333333, 0.16666667, 0.16666667, 0.2       ,\n",
       "        0.26666667, 0.26666667, 0.5       , 0.5       , 0.53333333,\n",
       "        0.53333333, 0.63333333, 0.63333333, 0.73333333, 0.73333333,\n",
       "        1.        , 0.        , 0.        , 0.        , 0.03333333,\n",
       "        0.03333333, 0.06666667, 0.06666667, 0.06666667, 0.06666667,\n",
       "        0.1       , 0.1       , 0.1       , 0.1       , 0.16666667,\n",
       "        0.16666667, 0.23333333, 0.23333333, 0.4       , 0.4       ,\n",
       "        0.5       , 0.5       , 0.66666667, 0.66666667, 0.73333333,\n",
       "        0.73333333, 1.        ]),\n",
       " 'TPRL': array([0.        , 0.01111111, 0.12222222, 0.28888889, 0.28888889,\n",
       "        0.65555556, 0.65555556, 0.76666667, 0.78888889, 0.87777778,\n",
       "        0.87777778, 0.9       , 0.9       , 0.92222222, 0.92222222,\n",
       "        0.94444444, 0.95555556, 0.95555556, 0.96666667, 0.96666667,\n",
       "        0.97777778, 0.97777778, 0.98888889, 0.98888889, 1.        ,\n",
       "        1.        , 0.        , 0.01111111, 0.13333333, 0.13333333,\n",
       "        0.22222222, 0.22222222, 0.46666667, 0.48888889, 0.63333333,\n",
       "        0.63333333, 0.75555556, 0.77777778, 0.87777778, 0.87777778,\n",
       "        0.94444444, 0.94444444, 0.95555556, 0.95555556, 0.96666667,\n",
       "        0.96666667, 0.97777778, 0.97777778, 0.98888889, 0.98888889,\n",
       "        1.        , 1.        ]),\n",
       " 'AlgorithmL': array(['logistic_reg', 'logistic_reg', 'logistic_reg', 'logistic_reg',\n",
       "        'logistic_reg', 'logistic_reg', 'logistic_reg', 'logistic_reg',\n",
       "        'logistic_reg', 'logistic_reg', 'logistic_reg', 'logistic_reg',\n",
       "        'logistic_reg', 'logistic_reg', 'logistic_reg', 'logistic_reg',\n",
       "        'logistic_reg', 'logistic_reg', 'logistic_reg', 'logistic_reg',\n",
       "        'logistic_reg', 'logistic_reg', 'logistic_reg', 'logistic_reg',\n",
       "        'logistic_reg', 'logistic_reg', 'tuned_logreg', 'tuned_logreg',\n",
       "        'tuned_logreg', 'tuned_logreg', 'tuned_logreg', 'tuned_logreg',\n",
       "        'tuned_logreg', 'tuned_logreg', 'tuned_logreg', 'tuned_logreg',\n",
       "        'tuned_logreg', 'tuned_logreg', 'tuned_logreg', 'tuned_logreg',\n",
       "        'tuned_logreg', 'tuned_logreg', 'tuned_logreg', 'tuned_logreg',\n",
       "        'tuned_logreg', 'tuned_logreg', 'tuned_logreg', 'tuned_logreg',\n",
       "        'tuned_logreg', 'tuned_logreg', 'tuned_logreg', 'tuned_logreg'],\n",
       "       dtype='<U12')}"
      ]
     },
     "execution_count": 68,
     "metadata": {},
     "output_type": "execute_result"
    }
   ],
   "source": [
    "logdict"
   ]
  },
  {
   "cell_type": "code",
   "execution_count": 69,
   "metadata": {},
   "outputs": [],
   "source": [
    "df_3 = pd.DataFrame(logdict)"
   ]
  },
  {
   "cell_type": "code",
   "execution_count": 71,
   "metadata": {},
   "outputs": [
    {
     "data": {
      "text/html": [
       "<div>\n",
       "<style scoped>\n",
       "    .dataframe tbody tr th:only-of-type {\n",
       "        vertical-align: middle;\n",
       "    }\n",
       "\n",
       "    .dataframe tbody tr th {\n",
       "        vertical-align: top;\n",
       "    }\n",
       "\n",
       "    .dataframe thead th {\n",
       "        text-align: right;\n",
       "    }\n",
       "</style>\n",
       "<table border=\"1\" class=\"dataframe\">\n",
       "  <thead>\n",
       "    <tr style=\"text-align: right;\">\n",
       "      <th></th>\n",
       "      <th>FPRL</th>\n",
       "      <th>TPRL</th>\n",
       "      <th>AlgorithmL</th>\n",
       "    </tr>\n",
       "  </thead>\n",
       "  <tbody>\n",
       "    <tr>\n",
       "      <th>0</th>\n",
       "      <td>0.000000</td>\n",
       "      <td>0.000000</td>\n",
       "      <td>logistic_reg</td>\n",
       "    </tr>\n",
       "    <tr>\n",
       "      <th>1</th>\n",
       "      <td>0.000000</td>\n",
       "      <td>0.011111</td>\n",
       "      <td>logistic_reg</td>\n",
       "    </tr>\n",
       "    <tr>\n",
       "      <th>2</th>\n",
       "      <td>0.000000</td>\n",
       "      <td>0.122222</td>\n",
       "      <td>logistic_reg</td>\n",
       "    </tr>\n",
       "    <tr>\n",
       "      <th>3</th>\n",
       "      <td>0.033333</td>\n",
       "      <td>0.288889</td>\n",
       "      <td>logistic_reg</td>\n",
       "    </tr>\n",
       "    <tr>\n",
       "      <th>4</th>\n",
       "      <td>0.066667</td>\n",
       "      <td>0.288889</td>\n",
       "      <td>logistic_reg</td>\n",
       "    </tr>\n",
       "  </tbody>\n",
       "</table>\n",
       "</div>"
      ],
      "text/plain": [
       "       FPRL      TPRL    AlgorithmL\n",
       "0  0.000000  0.000000  logistic_reg\n",
       "1  0.000000  0.011111  logistic_reg\n",
       "2  0.000000  0.122222  logistic_reg\n",
       "3  0.033333  0.288889  logistic_reg\n",
       "4  0.066667  0.288889  logistic_reg"
      ]
     },
     "execution_count": 71,
     "metadata": {},
     "output_type": "execute_result"
    }
   ],
   "source": [
    "df_3.head()"
   ]
  },
  {
   "cell_type": "code",
   "execution_count": 153,
   "metadata": {},
   "outputs": [
    {
     "data": {
      "image/png": "[encoded data removed]",
      "text/plain": [
       "<Figure size 407.055x324 with 1 Axes>"
      ]
     },
     "metadata": {},
     "output_type": "display_data"
    }
   ],
   "source": [
    "fatui = [\"#e74c3c\", \"#34495e\"]\n",
    "sns.set_style('darkgrid')\n",
    "sns.set_palette(fatui)\n",
    "sns.set_context('paper')\n",
    "\n",
    "g = sns.relplot(x = 'FPRL', y = 'TPRL' , data = df_3, kind = 'line', style='AlgorithmL', hue = 'AlgorithmL', ci = None, dashes = False, height = 4.5, aspect = 1)\n",
    "g.set(xlabel = 'False Positive Rate', ylabel ='True Positive Rate')\n",
    "plt.savefig('Roc log.eps', format='eps')\n",
    "plt.show()"
   ]
  },
  {
   "cell_type": "code",
   "execution_count": 17,
   "metadata": {},
   "outputs": [
    {
     "name": "stdout",
     "output_type": "stream",
     "text": [
      "0.9\n",
      "              precision    recall  f1-score   support\n",
      "\n",
      "           0       0.82      0.77      0.79        30\n",
      "           1       0.92      0.94      0.93        90\n",
      "\n",
      "    accuracy                           0.90       120\n",
      "   macro avg       0.87      0.86      0.86       120\n",
      "weighted avg       0.90      0.90      0.90       120\n",
      "\n",
      "[[23  7]\n",
      " [ 5 85]]\n",
      "0.31388266970607775\n",
      "AUC of ROC Curve: 0.9051851851851853\n",
      "28\n"
     ]
    }
   ],
   "source": [
    "fpr_sv, tpr_sv = svm_func(X_train_enc, X_test_enc, y_train_enc, y_test_enc)"
   ]
  },
  {
   "cell_type": "code",
   "execution_count": 18,
   "metadata": {},
   "outputs": [
    {
     "name": "stderr",
     "output_type": "stream",
     "text": [
      "/Users/Nafees/anaconda3/lib/python3.7/site-packages/sklearn/svm/base.py:193: FutureWarning: The default value of gamma will change from 'auto' to 'scale' in version 0.22 to account better for unscaled features. Set gamma explicitly to 'auto' or 'scale' to avoid this warning.\n",
      "  \"avoid this warning.\", FutureWarning)\n",
      "/Users/Nafees/anaconda3/lib/python3.7/site-packages/sklearn/svm/base.py:193: FutureWarning: The default value of gamma will change from 'auto' to 'scale' in version 0.22 to account better for unscaled features. Set gamma explicitly to 'auto' or 'scale' to avoid this warning.\n",
      "  \"avoid this warning.\", FutureWarning)\n",
      "/Users/Nafees/anaconda3/lib/python3.7/site-packages/sklearn/svm/base.py:193: FutureWarning: The default value of gamma will change from 'auto' to 'scale' in version 0.22 to account better for unscaled features. Set gamma explicitly to 'auto' or 'scale' to avoid this warning.\n",
      "  \"avoid this warning.\", FutureWarning)\n",
      "/Users/Nafees/anaconda3/lib/python3.7/site-packages/sklearn/svm/base.py:193: FutureWarning: The default value of gamma will change from 'auto' to 'scale' in version 0.22 to account better for unscaled features. Set gamma explicitly to 'auto' or 'scale' to avoid this warning.\n",
      "  \"avoid this warning.\", FutureWarning)\n",
      "/Users/Nafees/anaconda3/lib/python3.7/site-packages/sklearn/svm/base.py:193: FutureWarning: The default value of gamma will change from 'auto' to 'scale' in version 0.22 to account better for unscaled features. Set gamma explicitly to 'auto' or 'scale' to avoid this warning.\n",
      "  \"avoid this warning.\", FutureWarning)\n",
      "/Users/Nafees/anaconda3/lib/python3.7/site-packages/sklearn/svm/base.py:193: FutureWarning: The default value of gamma will change from 'auto' to 'scale' in version 0.22 to account better for unscaled features. Set gamma explicitly to 'auto' or 'scale' to avoid this warning.\n",
      "  \"avoid this warning.\", FutureWarning)\n",
      "/Users/Nafees/anaconda3/lib/python3.7/site-packages/sklearn/svm/base.py:193: FutureWarning: The default value of gamma will change from 'auto' to 'scale' in version 0.22 to account better for unscaled features. Set gamma explicitly to 'auto' or 'scale' to avoid this warning.\n",
      "  \"avoid this warning.\", FutureWarning)\n",
      "/Users/Nafees/anaconda3/lib/python3.7/site-packages/sklearn/svm/base.py:193: FutureWarning: The default value of gamma will change from 'auto' to 'scale' in version 0.22 to account better for unscaled features. Set gamma explicitly to 'auto' or 'scale' to avoid this warning.\n",
      "  \"avoid this warning.\", FutureWarning)\n",
      "/Users/Nafees/anaconda3/lib/python3.7/site-packages/sklearn/svm/base.py:193: FutureWarning: The default value of gamma will change from 'auto' to 'scale' in version 0.22 to account better for unscaled features. Set gamma explicitly to 'auto' or 'scale' to avoid this warning.\n",
      "  \"avoid this warning.\", FutureWarning)\n",
      "/Users/Nafees/anaconda3/lib/python3.7/site-packages/sklearn/svm/base.py:193: FutureWarning: The default value of gamma will change from 'auto' to 'scale' in version 0.22 to account better for unscaled features. Set gamma explicitly to 'auto' or 'scale' to avoid this warning.\n",
      "  \"avoid this warning.\", FutureWarning)\n",
      "/Users/Nafees/anaconda3/lib/python3.7/site-packages/sklearn/svm/base.py:193: FutureWarning: The default value of gamma will change from 'auto' to 'scale' in version 0.22 to account better for unscaled features. Set gamma explicitly to 'auto' or 'scale' to avoid this warning.\n",
      "  \"avoid this warning.\", FutureWarning)\n",
      "/Users/Nafees/anaconda3/lib/python3.7/site-packages/sklearn/svm/base.py:193: FutureWarning: The default value of gamma will change from 'auto' to 'scale' in version 0.22 to account better for unscaled features. Set gamma explicitly to 'auto' or 'scale' to avoid this warning.\n",
      "  \"avoid this warning.\", FutureWarning)\n",
      "/Users/Nafees/anaconda3/lib/python3.7/site-packages/sklearn/svm/base.py:193: FutureWarning: The default value of gamma will change from 'auto' to 'scale' in version 0.22 to account better for unscaled features. Set gamma explicitly to 'auto' or 'scale' to avoid this warning.\n",
      "  \"avoid this warning.\", FutureWarning)\n",
      "/Users/Nafees/anaconda3/lib/python3.7/site-packages/sklearn/svm/base.py:193: FutureWarning: The default value of gamma will change from 'auto' to 'scale' in version 0.22 to account better for unscaled features. Set gamma explicitly to 'auto' or 'scale' to avoid this warning.\n",
      "  \"avoid this warning.\", FutureWarning)\n",
      "/Users/Nafees/anaconda3/lib/python3.7/site-packages/sklearn/svm/base.py:193: FutureWarning: The default value of gamma will change from 'auto' to 'scale' in version 0.22 to account better for unscaled features. Set gamma explicitly to 'auto' or 'scale' to avoid this warning.\n",
      "  \"avoid this warning.\", FutureWarning)\n"
     ]
    },
    {
     "name": "stdout",
     "output_type": "stream",
     "text": [
      "Best CV params {'C': 1}\n",
      "Best CV accuracy 0.9123173277661796\n",
      "Test accuracy of best grid search hypers: 0.9333333333333333\n",
      "              precision    recall  f1-score   support\n",
      "\n",
      "           0       0.89      0.83      0.86        30\n",
      "           1       0.95      0.97      0.96        90\n",
      "\n",
      "    accuracy                           0.93       120\n",
      "   macro avg       0.92      0.90      0.91       120\n",
      "weighted avg       0.93      0.93      0.93       120\n",
      "\n",
      "[[25  5]\n",
      " [ 3 87]]\n",
      "0.2829341856580417\n",
      "AUC of ROC Curve: 0.9274074074074075\n",
      "18\n"
     ]
    },
    {
     "name": "stderr",
     "output_type": "stream",
     "text": [
      "/Users/Nafees/anaconda3/lib/python3.7/site-packages/sklearn/model_selection/_search.py:813: DeprecationWarning: The default of the `iid` parameter will change from True to False in version 0.22 and will be removed in 0.24. This will change numeric results when test-set sizes are unequal.\n",
      "  DeprecationWarning)\n",
      "/Users/Nafees/anaconda3/lib/python3.7/site-packages/sklearn/svm/base.py:193: FutureWarning: The default value of gamma will change from 'auto' to 'scale' in version 0.22 to account better for unscaled features. Set gamma explicitly to 'auto' or 'scale' to avoid this warning.\n",
      "  \"avoid this warning.\", FutureWarning)\n"
     ]
    }
   ],
   "source": [
    "fpr_svm, tpr_svm = svm_func_tuned(X_train_enc, X_test_enc, y_train_enc, y_test_enc)"
   ]
  },
  {
   "cell_type": "code",
   "execution_count": 19,
   "metadata": {},
   "outputs": [
    {
     "data": {
      "text/plain": [
       "18"
      ]
     },
     "execution_count": 19,
     "metadata": {},
     "output_type": "execute_result"
    }
   ],
   "source": [
    "fpr_list= [0.        , 0.          , 0.03333333,\n",
    "        0.06666667, 0.06666667, 0.1       , 0.1       , \n",
    "        0.13333333, 0.16666667, 0.16666667,\n",
    "        0.2       , 0.23333333, 0.33333333,\n",
    "        0.33333333, 0.7       , 0.7       ,\n",
    "        0.76666667, 1.        ]\n",
    "\n",
    "tpr_list = [0.        , 0.01111111, 0.13333333,\n",
    "        0.2       , 0.7       , 0.7       , 0.73333333, \n",
    "        0.84444444, 0.86666667, 0.91111111,\n",
    "        0.92222222, 0.92222222, 0.95555556,\n",
    "        0.96666667, 0.97777778, 0.98888889,\n",
    "        1.        , 1.        ]\n",
    "len(fpr_list)\n",
    "len(tpr_list)"
   ]
  },
  {
   "cell_type": "code",
   "execution_count": 20,
   "metadata": {},
   "outputs": [],
   "source": [
    "algo = []\n",
    "for i in range(0,18):\n",
    "    algo.append('linear_svm')\n"
   ]
  },
  {
   "cell_type": "code",
   "execution_count": 21,
   "metadata": {},
   "outputs": [
    {
     "name": "stdout",
     "output_type": "stream",
     "text": [
      "{'FPR': [0.0, 0.0, 0.03333333, 0.06666667, 0.06666667, 0.1, 0.1, 0.13333333, 0.16666667, 0.16666667, 0.2, 0.23333333, 0.33333333, 0.33333333, 0.7, 0.7, 0.76666667, 1.0], 'TPR': [0.0, 0.01111111, 0.13333333, 0.2, 0.7, 0.7, 0.73333333, 0.84444444, 0.86666667, 0.91111111, 0.92222222, 0.92222222, 0.95555556, 0.96666667, 0.97777778, 0.98888889, 1.0, 1.0], 'Algorithm': ['linear_svm', 'linear_svm', 'linear_svm', 'linear_svm', 'linear_svm', 'linear_svm', 'linear_svm', 'linear_svm', 'linear_svm', 'linear_svm', 'linear_svm', 'linear_svm', 'linear_svm', 'linear_svm', 'linear_svm', 'linear_svm', 'linear_svm', 'linear_svm']}\n"
     ]
    }
   ],
   "source": [
    "keys = ['FPR', 'TPR', 'Algorithm']\n",
    "values = [fpr_list, tpr_list, algo]\n",
    "sv_l = dict(zip(keys, values))\n",
    "print(sv_l)"
   ]
  },
  {
   "cell_type": "code",
   "execution_count": 22,
   "metadata": {},
   "outputs": [],
   "source": [
    "algo_m = []\n",
    "for i in range(0,18):\n",
    "    algo_m.append('tuned_svm')"
   ]
  },
  {
   "cell_type": "code",
   "execution_count": 23,
   "metadata": {},
   "outputs": [
    {
     "data": {
      "text/plain": [
       "18"
      ]
     },
     "execution_count": 23,
     "metadata": {},
     "output_type": "execute_result"
    }
   ],
   "source": [
    "len(algo_m)"
   ]
  },
  {
   "cell_type": "code",
   "execution_count": 24,
   "metadata": {},
   "outputs": [
    {
     "name": "stdout",
     "output_type": "stream",
     "text": [
      "{'FPR': array([0.        , 0.        , 0.        , 0.        , 0.        ,\n",
      "       0.03333333, 0.03333333, 0.06666667, 0.06666667, 0.13333333,\n",
      "       0.13333333, 0.16666667, 0.16666667, 0.6       , 0.6       ,\n",
      "       0.8       , 0.8       , 1.        ]), 'TPR': array([0.        , 0.01111111, 0.07777778, 0.1       , 0.4       ,\n",
      "       0.4       , 0.48888889, 0.48888889, 0.76666667, 0.76666667,\n",
      "       0.9       , 0.9       , 0.96666667, 0.96666667, 0.98888889,\n",
      "       0.98888889, 1.        , 1.        ]), 'Algorithm': ['tuned_svm', 'tuned_svm', 'tuned_svm', 'tuned_svm', 'tuned_svm', 'tuned_svm', 'tuned_svm', 'tuned_svm', 'tuned_svm', 'tuned_svm', 'tuned_svm', 'tuned_svm', 'tuned_svm', 'tuned_svm', 'tuned_svm', 'tuned_svm', 'tuned_svm', 'tuned_svm']}\n"
     ]
    }
   ],
   "source": [
    "keyst = ['FPR', 'TPR', 'Algorithm']\n",
    "valuest = [fpr_svm, tpr_svm, algo_m]\n",
    "sv_r = dict(zip(keyst, valuest))\n",
    "print(sv_r)"
   ]
  },
  {
   "cell_type": "code",
   "execution_count": 25,
   "metadata": {},
   "outputs": [],
   "source": [
    "ds = [sv_l, sv_r]\n",
    "d = {}\n",
    "for k in sv_l.keys():\n",
    "    d[k] = np.concatenate(list(d[k] for d in ds))"
   ]
  },
  {
   "cell_type": "code",
   "execution_count": 26,
   "metadata": {},
   "outputs": [
    {
     "data": {
      "text/plain": [
       "{'FPR': array([0.        , 0.        , 0.03333333, 0.06666667, 0.06666667,\n",
       "        0.1       , 0.1       , 0.13333333, 0.16666667, 0.16666667,\n",
       "        0.2       , 0.23333333, 0.33333333, 0.33333333, 0.7       ,\n",
       "        0.7       , 0.76666667, 1.        , 0.        , 0.        ,\n",
       "        0.        , 0.        , 0.        , 0.03333333, 0.03333333,\n",
       "        0.06666667, 0.06666667, 0.13333333, 0.13333333, 0.16666667,\n",
       "        0.16666667, 0.6       , 0.6       , 0.8       , 0.8       ,\n",
       "        1.        ]),\n",
       " 'TPR': array([0.        , 0.01111111, 0.13333333, 0.2       , 0.7       ,\n",
       "        0.7       , 0.73333333, 0.84444444, 0.86666667, 0.91111111,\n",
       "        0.92222222, 0.92222222, 0.95555556, 0.96666667, 0.97777778,\n",
       "        0.98888889, 1.        , 1.        , 0.        , 0.01111111,\n",
       "        0.07777778, 0.1       , 0.4       , 0.4       , 0.48888889,\n",
       "        0.48888889, 0.76666667, 0.76666667, 0.9       , 0.9       ,\n",
       "        0.96666667, 0.96666667, 0.98888889, 0.98888889, 1.        ,\n",
       "        1.        ]),\n",
       " 'Algorithm': array(['linear_svm', 'linear_svm', 'linear_svm', 'linear_svm',\n",
       "        'linear_svm', 'linear_svm', 'linear_svm', 'linear_svm',\n",
       "        'linear_svm', 'linear_svm', 'linear_svm', 'linear_svm',\n",
       "        'linear_svm', 'linear_svm', 'linear_svm', 'linear_svm',\n",
       "        'linear_svm', 'linear_svm', 'tuned_svm', 'tuned_svm', 'tuned_svm',\n",
       "        'tuned_svm', 'tuned_svm', 'tuned_svm', 'tuned_svm', 'tuned_svm',\n",
       "        'tuned_svm', 'tuned_svm', 'tuned_svm', 'tuned_svm', 'tuned_svm',\n",
       "        'tuned_svm', 'tuned_svm', 'tuned_svm', 'tuned_svm', 'tuned_svm'],\n",
       "       dtype='<U10')}"
      ]
     },
     "execution_count": 26,
     "metadata": {},
     "output_type": "execute_result"
    }
   ],
   "source": [
    "d"
   ]
  },
  {
   "cell_type": "code",
   "execution_count": 27,
   "metadata": {},
   "outputs": [
    {
     "data": {
      "text/plain": [
       "36"
      ]
     },
     "execution_count": 27,
     "metadata": {},
     "output_type": "execute_result"
    }
   ],
   "source": [
    "len(d['Algorithm'])"
   ]
  },
  {
   "cell_type": "code",
   "execution_count": 28,
   "metadata": {},
   "outputs": [],
   "source": [
    "df_2 = pd.DataFrame(d)"
   ]
  },
  {
   "cell_type": "code",
   "execution_count": 29,
   "metadata": {},
   "outputs": [
    {
     "data": {
      "text/html": [
       "<div>\n",
       "<style scoped>\n",
       "    .dataframe tbody tr th:only-of-type {\n",
       "        vertical-align: middle;\n",
       "    }\n",
       "\n",
       "    .dataframe tbody tr th {\n",
       "        vertical-align: top;\n",
       "    }\n",
       "\n",
       "    .dataframe thead th {\n",
       "        text-align: right;\n",
       "    }\n",
       "</style>\n",
       "<table border=\"1\" class=\"dataframe\">\n",
       "  <thead>\n",
       "    <tr style=\"text-align: right;\">\n",
       "      <th></th>\n",
       "      <th>FPR</th>\n",
       "      <th>TPR</th>\n",
       "      <th>Algorithm</th>\n",
       "    </tr>\n",
       "  </thead>\n",
       "  <tbody>\n",
       "    <tr>\n",
       "      <th>0</th>\n",
       "      <td>0.000000</td>\n",
       "      <td>0.000000</td>\n",
       "      <td>linear_svm</td>\n",
       "    </tr>\n",
       "    <tr>\n",
       "      <th>1</th>\n",
       "      <td>0.000000</td>\n",
       "      <td>0.011111</td>\n",
       "      <td>linear_svm</td>\n",
       "    </tr>\n",
       "    <tr>\n",
       "      <th>2</th>\n",
       "      <td>0.033333</td>\n",
       "      <td>0.133333</td>\n",
       "      <td>linear_svm</td>\n",
       "    </tr>\n",
       "    <tr>\n",
       "      <th>3</th>\n",
       "      <td>0.066667</td>\n",
       "      <td>0.200000</td>\n",
       "      <td>linear_svm</td>\n",
       "    </tr>\n",
       "    <tr>\n",
       "      <th>4</th>\n",
       "      <td>0.066667</td>\n",
       "      <td>0.700000</td>\n",
       "      <td>linear_svm</td>\n",
       "    </tr>\n",
       "  </tbody>\n",
       "</table>\n",
       "</div>"
      ],
      "text/plain": [
       "        FPR       TPR   Algorithm\n",
       "0  0.000000  0.000000  linear_svm\n",
       "1  0.000000  0.011111  linear_svm\n",
       "2  0.033333  0.133333  linear_svm\n",
       "3  0.066667  0.200000  linear_svm\n",
       "4  0.066667  0.700000  linear_svm"
      ]
     },
     "execution_count": 29,
     "metadata": {},
     "output_type": "execute_result"
    }
   ],
   "source": [
    "df_2.head()"
   ]
  },
  {
   "cell_type": "code",
   "execution_count": 154,
   "metadata": {},
   "outputs": [
    {
     "data": {
      "image/png": "[encoded data removed]",
      "text/plain": [
       "<Figure size 398.805x324 with 1 Axes>"
      ]
     },
     "metadata": {},
     "output_type": "display_data"
    }
   ],
   "source": [
    "fatui = [\"#e74c3c\", \"#34495e\"]\n",
    "sns.set_style('darkgrid')\n",
    "sns.set_palette(fatui)\n",
    "sns.set_context('paper')\n",
    "\n",
    "g = sns.relplot(x = 'FPR', y = 'TPR' , data = df_2, kind = 'line', style='Algorithm', hue = 'Algorithm', ci = None, dashes = False, height = 4.5, aspect = 1)\n",
    "g.set(xlabel = 'False Positive Rate', ylabel ='True Positive Rate')\n",
    "plt.savefig('Roc svm.eps', format='eps')\n",
    "plt.show()"
   ]
  },
  {
   "cell_type": "code",
   "execution_count": null,
   "metadata": {},
   "outputs": [],
   "source": []
  }
 ],
 "metadata": {
  "kernelspec": {
   "display_name": "Python 3",
   "language": "python",
   "name": "python3"
  },
  "language_info": {
   "codemirror_mode": {
    "name": "ipython",
    "version": 3
   },
   "file_extension": ".py",
   "mimetype": "text/x-python",
   "name": "python",
   "nbconvert_exporter": "python",
   "pygments_lexer": "ipython3",
   "version": "3.7.3"
  }
 },
 "nbformat": 4,
 "nbformat_minor": 2
}
